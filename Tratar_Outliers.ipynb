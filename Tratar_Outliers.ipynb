{
 "cells": [
  {
   "cell_type": "code",
   "id": "initial_id",
   "metadata": {
    "collapsed": true,
    "ExecuteTime": {
     "end_time": "2025-03-30T17:49:38.115504Z",
     "start_time": "2025-03-30T17:49:14.177077Z"
    }
   },
   "source": [
    "import pandas as pd\n",
    "from scipy import stats\n",
    "\n",
    "pd.set_option('display.width', None)\n",
    "\n",
    "# Ler dados\n",
    "df = pd.read_csv(\"C:/Users/karin/OneDrive/Área de Trabalho/EBAC/clientes_limpeza.csv\")"
   ],
   "outputs": [],
   "execution_count": 5
  },
  {
   "metadata": {},
   "cell_type": "markdown",
   "source": "### Filtro básico de Outlier ",
   "id": "84ae70e11a3dbd58"
  },
  {
   "metadata": {
    "ExecuteTime": {
     "end_time": "2025-03-30T17:49:47.018871Z",
     "start_time": "2025-03-30T17:49:46.997633Z"
    }
   },
   "cell_type": "code",
   "source": [
    "df_filtro_basico = df[df['idade'] > 100]\n",
    "print('Filtro básico \\n', df_filtro_basico[['nome', 'idade']])"
   ],
   "id": "78c1adedc86c1729",
   "outputs": [
    {
     "name": "stdout",
     "output_type": "stream",
     "text": [
      "Filtro básico \n",
      " Empty DataFrame\n",
      "Columns: [nome, idade]\n",
      "Index: []\n"
     ]
    }
   ],
   "execution_count": 6
  },
  {
   "metadata": {},
   "cell_type": "markdown",
   "source": "Esse filtro está buscando pessoas com idade acima de 100, mas como seu DataFrame foi limpo (com média ou dados corrigidos anteriormente), é possível que todas as idades estejam ≤ 100 — por isso o DataFrame está vazio.",
   "id": "21128657983b76ff"
  },
  {
   "metadata": {},
   "cell_type": "markdown",
   "source": "##  Identificar outliers com Z-score",
   "id": "d2e7dd329449f448"
  },
  {
   "metadata": {
    "ExecuteTime": {
     "end_time": "2025-03-30T17:54:11.770672Z",
     "start_time": "2025-03-30T17:54:11.689279Z"
    }
   },
   "cell_type": "code",
   "source": [
    "z_scores = stats.zscore(df['idade'].dropna())\n",
    "outliers_z = df[z_scores >= 3]\n",
    "print(\"Outliers pelo Z-score:\\n\", outliers_z)"
   ],
   "id": "ecb676cd9761e64c",
   "outputs": [
    {
     "name": "stdout",
     "output_type": "stream",
     "text": [
      "Outliers pelo Z-score:\n",
      " Empty DataFrame\n",
      "Columns: [nome, cpf, idade, data, endereco, estado]\n",
      "Index: []\n"
     ]
    }
   ],
   "execution_count": 9
  },
  {
   "metadata": {},
   "cell_type": "markdown",
   "source": "###  Calcular o IQR e determinar limites para outliers",
   "id": "e0aa441b6873816"
  },
  {
   "metadata": {
    "ExecuteTime": {
     "end_time": "2025-03-30T18:55:02.898560Z",
     "start_time": "2025-03-30T18:55:02.720433Z"
    }
   },
   "cell_type": "code",
   "source": [
    "Q1 = df['idade'].quantile(0.25)\n",
    "Q3 = df['idade'].quantile(0.75)\n",
    "IQR = Q3 - Q1\n",
    "\n",
    "# 2. Determinar os limites para outliers\n",
    "Limite_baixo = Q1 - 1.5 * IQR\n",
    "Limite_alto = Q3 + 1.5 * IQR\n",
    "\n",
    "print(\"Limites IQR:\", Limite_baixo, Limite_alto)"
   ],
   "id": "3a15776f4a0caad9",
   "outputs": [
    {
     "name": "stdout",
     "output_type": "stream",
     "text": [
      "Limites IQR: -20.5 135.5\n"
     ]
    }
   ],
   "execution_count": 23
  },
  {
   "metadata": {},
   "cell_type": "markdown",
   "source": "###  Identificar os outliers pelo IQR",
   "id": "16096bb2ae2b39ee"
  },
  {
   "metadata": {
    "ExecuteTime": {
     "end_time": "2025-03-30T18:55:33.519685Z",
     "start_time": "2025-03-30T18:55:33.463463Z"
    }
   },
   "cell_type": "code",
   "source": [
    "outliers_iqr = df[(df['idade'] < Limite_baixo) | (df['idade'] > Limite_alto)]\n",
    "print(\"Outliers pelo IQR:\\n\", outliers_iqr)"
   ],
   "id": "b036b01c86ef1d61",
   "outputs": [
    {
     "name": "stdout",
     "output_type": "stream",
     "text": [
      "Outliers pelo IQR:\n",
      " Empty DataFrame\n",
      "Columns: [nome, cpf, idade, data, endereco, estado]\n",
      "Index: []\n"
     ]
    }
   ],
   "execution_count": 24
  },
  {
   "metadata": {
    "ExecuteTime": {
     "end_time": "2025-03-30T18:56:09.142889Z",
     "start_time": "2025-03-30T18:56:08.689705Z"
    }
   },
   "cell_type": "code",
   "source": [
    "# Remover os outliers do DataFrame\n",
    "df = df[(df['idade'] >= Limite_baixo) & (df['idade'] <= Limite_alto)]\n",
    "\n",
    "# Aplicar limite manual de idade entre 1 e 100 (filtro extra)\n",
    "df = df[(df['idade'] >= 1) & (df['idade'] <= 100)]"
   ],
   "id": "f14a105e7a6a121c",
   "outputs": [],
   "execution_count": 25
  },
  {
   "metadata": {},
   "cell_type": "markdown",
   "source": "### Tratar endereços inválidos (com menos de 3 palavras)",
   "id": "59e06f2b8a5e81a9"
  },
  {
   "metadata": {
    "ExecuteTime": {
     "end_time": "2025-03-30T18:56:43.120931Z",
     "start_time": "2025-03-30T18:56:42.240819Z"
    }
   },
   "cell_type": "code",
   "source": "df['endereco'] = df['endereco'].apply(lambda x: 'Endereço inválido' if len(str(x).split()) < 3 else x)",
   "id": "9a5976dbb031f1c0",
   "outputs": [],
   "execution_count": 26
  },
  {
   "metadata": {},
   "cell_type": "markdown",
   "source": "### Tratar nomes muito grandes (mais de 50 caracteres)",
   "id": "449d60e7b5cf5ce8"
  },
  {
   "metadata": {
    "ExecuteTime": {
     "end_time": "2025-03-30T18:57:13.115914Z",
     "start_time": "2025-03-30T18:57:13.075375Z"
    }
   },
   "cell_type": "code",
   "source": [
    "df['nome'] = df['nome'].apply(lambda x: 'Nome inválido' if isinstance(x, str) and len(x) > 50 else x)\n",
    "print('Qtd registros com nomes grandes:', (df['nome'] == 'Nome inválido').sum())"
   ],
   "id": "f8823b9ade8b40a6",
   "outputs": [
    {
     "name": "stdout",
     "output_type": "stream",
     "text": [
      "Qtd registros com nomes grandes: 0\n"
     ]
    }
   ],
   "execution_count": 27
  },
  {
   "metadata": {},
   "cell_type": "markdown",
   "source": "### Tratar endereços inválidos",
   "id": "427d427026d160cb"
  },
  {
   "metadata": {
    "ExecuteTime": {
     "end_time": "2025-03-30T19:01:24.526332Z",
     "start_time": "2025-03-30T19:01:24.417637Z"
    }
   },
   "cell_type": "code",
   "source": [
    "df['endereco'] = df['endereco'].apply(lambda x: 'Endereço inválido' if len(str(x).split('\\n')) < 3 else x)\n",
    "print('Qtd registros com endereços inválidos:', (df['endereco'] == 'Endereço inválido').sum())"
   ],
   "id": "5f6aa444306b7acf",
   "outputs": [
    {
     "name": "stdout",
     "output_type": "stream",
     "text": [
      "Qtd registros com endereços inválidos: 975\n"
     ]
    }
   ],
   "execution_count": 29
  },
  {
   "metadata": {},
   "cell_type": "markdown",
   "source": "### Tratar nomes muito longos\n",
   "id": "dd7a99d78ce9f6f"
  },
  {
   "metadata": {
    "ExecuteTime": {
     "end_time": "2025-03-30T19:01:57.390038Z",
     "start_time": "2025-03-30T19:01:57.356640Z"
    }
   },
   "cell_type": "code",
   "source": [
    "df['nome'] = df['nome'].apply(lambda x: 'Nome inválido' if isinstance(x, str) and len(x) > 50 else x)\n",
    "print('Qtd registros com nomes grandes:', (df['nome'] == 'Nome inválido').sum())"
   ],
   "id": "4db1799bb620bd0b",
   "outputs": [
    {
     "name": "stdout",
     "output_type": "stream",
     "text": [
      "Qtd registros com nomes grandes: 0\n"
     ]
    }
   ],
   "execution_count": 30
  },
  {
   "metadata": {
    "ExecuteTime": {
     "end_time": "2025-03-30T19:02:09.928032Z",
     "start_time": "2025-03-30T19:02:09.743930Z"
    }
   },
   "cell_type": "code",
   "source": [
    "# Exibir resultado final\n",
    "print(\"\\nDados com Outliers tratados:\\n\", df)"
   ],
   "id": "34754e203bde293f",
   "outputs": [
    {
     "name": "stdout",
     "output_type": "stream",
     "text": [
      "\n",
      "Dados com Outliers tratados:\n",
      "                         nome             cpf  idade  data           endereco  \\\n",
      "0    Sr. Vitor Gabriel Silva  640.***.***-01     90   NaN  Endereço inválido   \n",
      "1              Calebe Santos  651.***.***-46     40   NaN  Endereço inválido   \n",
      "3             Arthur Da Rosa  085.***.***-30     53   NaN  Endereço inválido   \n",
      "4               Juan Pereira  520.***.***-21     68   NaN  Endereço inválido   \n",
      "5     Dra. Ana Laura Ribeiro  210.***.***-20     69   NaN  Endereço inválido   \n",
      "..                       ...             ...    ...   ...                ...   \n",
      "971            Eloah Peixoto  064.***.***-16     79   NaN  Endereço inválido   \n",
      "972              Luiza Sales  726.***.***-80     56   NaN  Endereço inválido   \n",
      "973      Dr. Alexandre Sales  427.***.***-40     87   NaN  Endereço inválido   \n",
      "974            Alícia Campos  162.***.***-94     49   NaN  Endereço inválido   \n",
      "975              Luigi Porto  826.***.***-83     43   NaN  Endereço inválido   \n",
      "\n",
      "    estado  \n",
      "0       AP  \n",
      "1       PB  \n",
      "3       SE  \n",
      "4       BA  \n",
      "5       SP  \n",
      "..     ...  \n",
      "971     MG  \n",
      "972     GO  \n",
      "973     SP  \n",
      "974     GO  \n",
      "975     PI  \n",
      "\n",
      "[975 rows x 6 columns]\n"
     ]
    }
   ],
   "execution_count": 31
  },
  {
   "metadata": {},
   "cell_type": "markdown",
   "source": "##  Salvar o DataFrame final",
   "id": "7784e81bda0fc434"
  },
  {
   "metadata": {
    "ExecuteTime": {
     "end_time": "2025-03-30T19:05:18.873752Z",
     "start_time": "2025-03-30T19:05:18.639198Z"
    }
   },
   "cell_type": "code",
   "source": "df.to_csv('C:/Users/karin/OneDrive/Área de Trabalho/EBAC/clientes_remove_outliers.csv', index=False)",
   "id": "cd43f5ad3d1d8e23",
   "outputs": [],
   "execution_count": 32
  },
  {
   "metadata": {},
   "cell_type": "code",
   "outputs": [],
   "execution_count": null,
   "source": "",
   "id": "c44837d1614a185e"
  }
 ],
 "metadata": {
  "kernelspec": {
   "display_name": "Python 3",
   "language": "python",
   "name": "python3"
  },
  "language_info": {
   "codemirror_mode": {
    "name": "ipython",
    "version": 2
   },
   "file_extension": ".py",
   "mimetype": "text/x-python",
   "name": "python",
   "nbconvert_exporter": "python",
   "pygments_lexer": "ipython2",
   "version": "2.7.6"
  }
 },
 "nbformat": 4,
 "nbformat_minor": 5
}
