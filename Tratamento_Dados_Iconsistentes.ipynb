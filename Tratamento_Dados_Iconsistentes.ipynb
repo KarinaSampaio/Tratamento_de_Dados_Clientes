{
 "cells": [
  {
   "cell_type": "code",
   "id": "initial_id",
   "metadata": {
    "collapsed": true,
    "ExecuteTime": {
     "end_time": "2025-03-30T20:25:00.091573Z",
     "start_time": "2025-03-30T20:24:59.909910Z"
    }
   },
   "source": [
    "import pandas as pd\n",
    "import numpy as np\n",
    "\n",
    "pd.set_option('display.width', None)\n",
    "pd.set_option('display.max_colwidth', None)\n",
    "\n",
    "# Ler dados\n",
    "df = pd.read_csv('C:/Users/karin/OneDrive/Área de Trabalho/EBAC/clientes_remove_outliers.csv')\n",
    "\n",
    "print(df.head())"
   ],
   "outputs": [
    {
     "name": "stdout",
     "output_type": "stream",
     "text": [
      "                      nome             cpf  idade  data           endereco  \\\n",
      "0  Sr. Vitor Gabriel Silva  640.***.***-01     90   NaN  Endereço inválido   \n",
      "1            Calebe Santos  651.***.***-46     40   NaN  Endereço inválido   \n",
      "2           Arthur Da Rosa  085.***.***-30     53   NaN  Endereço inválido   \n",
      "3             Juan Pereira  520.***.***-21     68   NaN  Endereço inválido   \n",
      "4   Dra. Ana Laura Ribeiro  210.***.***-20     69   NaN  Endereço inválido   \n",
      "\n",
      "  estado  \n",
      "0     AP  \n",
      "1     PB  \n",
      "2     SE  \n",
      "3     BA  \n",
      "4     SP  \n"
     ]
    }
   ],
   "execution_count": 12
  },
  {
   "metadata": {},
   "cell_type": "markdown",
   "source": "### Mascarar dados pessoais (CPF)",
   "id": "845eb597b8240f42"
  },
  {
   "metadata": {
    "ExecuteTime": {
     "end_time": "2025-03-30T20:26:08.104656Z",
     "start_time": "2025-03-30T20:26:08.053126Z"
    }
   },
   "cell_type": "code",
   "source": "df['cpf_mascara'] = df['cpf'].apply(lambda cpf: f'{cpf[:3]}.***.***-{cpf[-2:]}' if isinstance(cpf, str) and len(cpf) == 14 else 'CPF inválido')",
   "id": "f9026763874d8353",
   "outputs": [],
   "execution_count": 13
  },
  {
   "metadata": {},
   "cell_type": "markdown",
   "source": "### Corrigir Datas",
   "id": "81e57965e1e3e098"
  },
  {
   "metadata": {
    "ExecuteTime": {
     "end_time": "2025-03-30T20:26:44.702611Z",
     "start_time": "2025-03-30T20:26:44.611090Z"
    }
   },
   "cell_type": "code",
   "source": [
    "df['data'] = pd.to_datetime(df['data'], format='%Y-%m-%d', errors='coerce')\n",
    "data_atual = pd.to_datetime('today')\n",
    "df['data_atualizada'] = df['data'].where(df['data'] <= data_atual, pd.to_datetime('1900-01-01'))\n",
    "\n",
    "df['idade_ajustada'] = data_atual.year - df['data_atualizada'].dt.year\n",
    "df['idade_ajustada'] += ((data_atual.month < df['data_atualizada'].dt.month) |\n",
    "                         ((data_atual.month == df['data_atualizada'].dt.month) & \n",
    "                          (data_atual.day < df['data_atualizada'].dt.day))).astype(int)"
   ],
   "id": "1065b26ea2735dce",
   "outputs": [],
   "execution_count": 14
  },
  {
   "metadata": {},
   "cell_type": "markdown",
   "source": "### Eliminar idades incoerentes",
   "id": "9fcedf931575b3df"
  },
  {
   "metadata": {
    "ExecuteTime": {
     "end_time": "2025-03-30T20:26:56.818296Z",
     "start_time": "2025-03-30T20:26:56.797107Z"
    }
   },
   "cell_type": "code",
   "source": "df.loc[df['idade_ajustada'] > 100, 'idade_ajustada'] = np.nan",
   "id": "75965aa892a1913f",
   "outputs": [],
   "execution_count": 15
  },
  {
   "metadata": {},
   "cell_type": "markdown",
   "source": "### Corrigir campo com múltiplas informações",
   "id": "4450ea8c6802c984"
  },
  {
   "metadata": {
    "ExecuteTime": {
     "end_time": "2025-03-30T20:27:20.547680Z",
     "start_time": "2025-03-30T20:27:20.523178Z"
    }
   },
   "cell_type": "code",
   "source": [
    "df['endereco_curto'] = df['endereco'].apply(lambda x: x.split('\\\\n')[0].strip() if isinstance(x, str) else 'Endereço inválido')\n",
    "df['bairro'] = df['endereco'].apply(lambda x: x.split('\\\\n')[1].strip() if isinstance(x, str) and len(x.split('\\\\n')) > 1 else 'Desconhecido')\n",
    "df['estado_sigla'] = df['endereco'].apply(lambda x: x.split('\\\\n')[-1].strip() if isinstance(x, str) and len(x.split('\\\\n')) > 1 else 'Desconhecido')"
   ],
   "id": "db150df8688d835b",
   "outputs": [],
   "execution_count": 16
  },
  {
   "metadata": {},
   "cell_type": "markdown",
   "source": "### Verificando a formatação do endereço",
   "id": "f531f94b3d5d4e47"
  },
  {
   "metadata": {
    "ExecuteTime": {
     "end_time": "2025-03-30T20:27:36.987392Z",
     "start_time": "2025-03-30T20:27:36.973356Z"
    }
   },
   "cell_type": "code",
   "source": "df['endereco_curto'] = df['endereco_curto'].apply(lambda x: 'Endereço inválido' if len(x) > 50 or len(x) < 5 else x)",
   "id": "d4677b2019e6b4ef",
   "outputs": [],
   "execution_count": 17
  },
  {
   "metadata": {},
   "cell_type": "markdown",
   "source": "### Corrigir dados errôneos de CPF (tamanho errado)",
   "id": "faf8f7ceb7f1039"
  },
  {
   "metadata": {
    "ExecuteTime": {
     "end_time": "2025-03-30T20:13:49.149403Z",
     "start_time": "2025-03-30T20:13:48.986501Z"
    }
   },
   "cell_type": "code",
   "source": "df['cpf'] = df['cpf'].apply(lambda x: x if len(x) == 14 else 'CPF inválido')",
   "id": "e347b6771c0c35ae",
   "outputs": [],
   "execution_count": 7
  },
  {
   "metadata": {
    "ExecuteTime": {
     "end_time": "2025-03-30T20:28:13.647219Z",
     "start_time": "2025-03-30T20:28:13.637278Z"
    }
   },
   "cell_type": "code",
   "source": [
    "# Verificando a formatação do endereço\n",
    "df['endereco_curto'] = df['endereco_curto'].apply(lambda x: 'Endereço inválido' if len(x) > 50 or len(x) < 5 else x)\n"
   ],
   "id": "fd9ad3a176731dd3",
   "outputs": [],
   "execution_count": 18
  },
  {
   "metadata": {},
   "cell_type": "markdown",
   "source": "### Validar siglas de estados brasileiros",
   "id": "6c0f939d9a8555d1"
  },
  {
   "metadata": {
    "ExecuteTime": {
     "end_time": "2025-03-30T20:28:35.256934Z",
     "start_time": "2025-03-30T20:28:35.233366Z"
    }
   },
   "cell_type": "code",
   "source": [
    "estados_br = ['AC', 'AL', 'AP', 'AM', 'BA', 'CE', 'DF', 'ES', 'GO', 'MA', 'MT',\n",
    "              'MS', 'MG', 'PA', 'PB', 'PR', 'PE', 'PI', 'RJ', 'RN', 'RS', 'RO',\n",
    "              'RR', 'SC', 'SP', 'SE', 'TO']\n",
    "\n",
    "df['estado_sigla'] = df['estado_sigla'].str.upper().apply(lambda x: x if x in estados_br else 'Desconhecido')"
   ],
   "id": "b825c4bbdc648207",
   "outputs": [],
   "execution_count": 19
  },
  {
   "metadata": {},
   "cell_type": "markdown",
   "source": "### Aplicar as correções ao DataFrame final",
   "id": "9431fff794f61afc"
  },
  {
   "metadata": {
    "ExecuteTime": {
     "end_time": "2025-03-30T20:29:15.425515Z",
     "start_time": "2025-03-30T20:29:15.409411Z"
    }
   },
   "cell_type": "code",
   "source": [
    "df['cpf'] = df['cpf_mascara']\n",
    "df['idade'] = df['idade_ajustada']\n",
    "df['endereco'] = df['endereco_curto']\n",
    "df['estado'] = df['estado_sigla']"
   ],
   "id": "1f247cabf60e2b90",
   "outputs": [],
   "execution_count": 20
  },
  {
   "metadata": {},
   "cell_type": "markdown",
   "source": "###  Selecionar colunas finais e salvar",
   "id": "fa1df9bed12a7b52"
  },
  {
   "metadata": {
    "ExecuteTime": {
     "end_time": "2025-03-30T20:32:24.833131Z",
     "start_time": "2025-03-30T20:32:23.732628Z"
    }
   },
   "cell_type": "code",
   "source": [
    "df_salvar = df[['nome', 'cpf', 'idade', 'data', 'endereco', 'bairro', 'estado']]\n",
    "df_salvar.to_csv('C:/Users/karin/OneDrive/Área de Trabalho/EBAC/clientes_tratados.csv', index=False)"
   ],
   "id": "e0b4f37ce2c2b516",
   "outputs": [],
   "execution_count": 23
  },
  {
   "metadata": {},
   "cell_type": "markdown",
   "source": "### Ler o novo CSV para verificação",
   "id": "ba333a21e7040ba0"
  },
  {
   "metadata": {
    "ExecuteTime": {
     "end_time": "2025-03-30T20:32:29.023932Z",
     "start_time": "2025-03-30T20:32:28.934975Z"
    }
   },
   "cell_type": "code",
   "source": "print(\"\\\\nNovo DataFrame: \\\\n\", pd.read_csv('C:/Users/karin/OneDrive/Área de Trabalho/EBAC/clientes_tratados.csv').head())",
   "id": "406fcf6ac2f5d58f",
   "outputs": [
    {
     "name": "stdout",
     "output_type": "stream",
     "text": [
      "\\nNovo DataFrame: \\n                       nome             cpf  idade  data           endereco  \\\n",
      "0  Sr. Vitor Gabriel Silva  640.***.***-01    NaN   NaN  Endereço inválido   \n",
      "1            Calebe Santos  651.***.***-46    NaN   NaN  Endereço inválido   \n",
      "2           Arthur Da Rosa  085.***.***-30    NaN   NaN  Endereço inválido   \n",
      "3             Juan Pereira  520.***.***-21    NaN   NaN  Endereço inválido   \n",
      "4   Dra. Ana Laura Ribeiro  210.***.***-20    NaN   NaN  Endereço inválido   \n",
      "\n",
      "         bairro        estado  \n",
      "0  Desconhecido  Desconhecido  \n",
      "1  Desconhecido  Desconhecido  \n",
      "2  Desconhecido  Desconhecido  \n",
      "3  Desconhecido  Desconhecido  \n",
      "4  Desconhecido  Desconhecido  \n"
     ]
    }
   ],
   "execution_count": 24
  },
  {
   "metadata": {
    "ExecuteTime": {
     "end_time": "2025-03-30T20:33:58.368454Z",
     "start_time": "2025-03-30T20:33:58.314241Z"
    }
   },
   "cell_type": "code",
   "source": [
    "# Apenas substituir se as colunas estiverem corretas\n",
    "if df['cpf_mascara'].notna().all():\n",
    "    df['cpf'] = df['cpf_mascara']\n",
    "\n",
    "if df['idade_ajustada'].notna().sum() > 0:\n",
    "    df['idade'] = df['idade_ajustada']\n",
    "\n",
    "if df['endereco_curto'].notna().sum() > 0:\n",
    "    df['endereco'] = df['endereco_curto']\n",
    "\n",
    "if df['estado_sigla'].notna().sum() > 0:\n",
    "    df['estado'] = df['estado_sigla']\n"
   ],
   "id": "30228a51305f8a74",
   "outputs": [],
   "execution_count": 25
  },
  {
   "metadata": {
    "ExecuteTime": {
     "end_time": "2025-03-30T20:34:08.322975Z",
     "start_time": "2025-03-30T20:34:08.211704Z"
    }
   },
   "cell_type": "code",
   "source": [
    "print(\"\\nResumo final:\")\n",
    "print(df[['nome', 'cpf', 'idade', 'data', 'endereco', 'bairro', 'estado']].head(10))\n",
    "print(\"\\nQtd de valores nulos por coluna:\\n\", df.isnull().sum())\n"
   ],
   "id": "4ea0e79fb78ff05b",
   "outputs": [
    {
     "name": "stdout",
     "output_type": "stream",
     "text": [
      "\n",
      "Resumo final:\n",
      "                      nome             cpf  idade data           endereco  \\\n",
      "0  Sr. Vitor Gabriel Silva  640.***.***-01    NaN  NaT  Endereço inválido   \n",
      "1            Calebe Santos  651.***.***-46    NaN  NaT  Endereço inválido   \n",
      "2           Arthur Da Rosa  085.***.***-30    NaN  NaT  Endereço inválido   \n",
      "3             Juan Pereira  520.***.***-21    NaN  NaT  Endereço inválido   \n",
      "4   Dra. Ana Laura Ribeiro  210.***.***-20    NaN  NaT  Endereço inválido   \n",
      "5       Maria Clara Araújo  960.***.***-80    NaN  NaT  Endereço inválido   \n",
      "6         Vitória Oliveira  302.***.***-83    NaN  NaT  Endereço inválido   \n",
      "7        Benjamin Oliveira  451.***.***-84    NaN  NaT  Endereço inválido   \n",
      "8            Pietro Barros  843.***.***-50    NaN  NaT  Endereço inválido   \n",
      "9        Samuel Cavalcanti  520.***.***-01    NaN  NaT  Endereço inválido   \n",
      "\n",
      "         bairro        estado  \n",
      "0  Desconhecido  Desconhecido  \n",
      "1  Desconhecido  Desconhecido  \n",
      "2  Desconhecido  Desconhecido  \n",
      "3  Desconhecido  Desconhecido  \n",
      "4  Desconhecido  Desconhecido  \n",
      "5  Desconhecido  Desconhecido  \n",
      "6  Desconhecido  Desconhecido  \n",
      "7  Desconhecido  Desconhecido  \n",
      "8  Desconhecido  Desconhecido  \n",
      "9  Desconhecido  Desconhecido  \n",
      "\n",
      "Qtd de valores nulos por coluna:\n",
      " nome                 2\n",
      "cpf                  0\n",
      "idade              975\n",
      "data               975\n",
      "endereco             0\n",
      "estado               0\n",
      "cpf_mascara          0\n",
      "data_atualizada      0\n",
      "idade_ajustada     975\n",
      "endereco_curto       0\n",
      "bairro               0\n",
      "estado_sigla         0\n",
      "dtype: int64\n"
     ]
    }
   ],
   "execution_count": 26
  },
  {
   "metadata": {
    "ExecuteTime": {
     "end_time": "2025-03-30T20:39:47.116557Z",
     "start_time": "2025-03-30T20:39:46.982580Z"
    }
   },
   "cell_type": "code",
   "source": [
    "# Se quiser salvar apenas colunas específicas, como no final do seu projeto:\n",
    "df_salvar = df[['nome', 'cpf', 'idade', 'data', 'endereco', 'bairro', 'estado']]\n",
    "\n",
    "# Salvar em um novo arquivo CSV\n",
    "df_salvar.to_csv('C:/Users/karin/OneDrive/Área de Trabalho/EBAC/clientes_tratados.csv', index=False)\n"
   ],
   "id": "324ff576b901c716",
   "outputs": [],
   "execution_count": 28
  },
  {
   "metadata": {},
   "cell_type": "code",
   "outputs": [],
   "execution_count": null,
   "source": "",
   "id": "497b29b270ada1a0"
  }
 ],
 "metadata": {
  "kernelspec": {
   "display_name": "Python 3",
   "language": "python",
   "name": "python3"
  },
  "language_info": {
   "codemirror_mode": {
    "name": "ipython",
    "version": 2
   },
   "file_extension": ".py",
   "mimetype": "text/x-python",
   "name": "python",
   "nbconvert_exporter": "python",
   "pygments_lexer": "ipython2",
   "version": "2.7.6"
  }
 },
 "nbformat": 4,
 "nbformat_minor": 5
}
