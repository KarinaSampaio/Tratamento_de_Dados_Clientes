{
 "cells": [
  {
   "metadata": {},
   "cell_type": "markdown",
   "source": [
    "## Trabalhando limpeza de dados \n",
    "\n",
    "Vamos trabalhar nessa parte a limpeza e extração de dados da planilha \"Clientes\"\n"
   ],
   "id": "8a77807f92f26ee"
  },
  {
   "metadata": {
    "ExecuteTime": {
     "end_time": "2025-03-30T16:39:59.560030Z",
     "start_time": "2025-03-30T16:39:57.182439Z"
    }
   },
   "cell_type": "code",
   "source": "import pandas as pd \n",
   "id": "1c3806c25dff3b4b",
   "outputs": [],
   "execution_count": 1
  },
  {
   "metadata": {
    "ExecuteTime": {
     "end_time": "2025-03-30T16:47:28.912575Z",
     "start_time": "2025-03-30T16:47:28.834897Z"
    }
   },
   "cell_type": "code",
   "source": [
    "\n",
    "df = pd.read_csv(\"C:/Users/karin/OneDrive/Área de Trabalho/EBAC/clientes.csv\")\n",
    "\n",
    "pd.set_option('display.width', None)\n",
    "print(df.head())"
   ],
   "id": "fbc121e30a2defb3",
   "outputs": [
    {
     "name": "stdout",
     "output_type": "stream",
     "text": [
      "                      nome             cpf  idade        data  \\\n",
      "0  Sr. Vitor Gabriel Silva  640.***.***-01   90.0  1933-12-06   \n",
      "1            Calebe Santos  651.***.***-46   40.0  1984-03-06   \n",
      "2       Maria Julia Castro  164.***.***-43    NaN  2035-04-12   \n",
      "3           Arthur Da Rosa  085.***.***-30   53.0  1970-04-16   \n",
      "4             Juan Pereira  520.***.***-21   68.0  1955-10-25   \n",
      "\n",
      "                     endereco                     bairro estado  \n",
      "0    trevo emanuel silva, 482                 vila tirol     AP  \n",
      "1           recanto moraes, 7         ernesto nascimento     PB  \n",
      "2  residencial de pereira, 20                     jatobá     AL  \n",
      "3          parque almeida, 66  vila suzana segunda seção     SE  \n",
      "4      rodovia de pereira, 51                    estrela     BA  \n"
     ]
    }
   ],
   "execution_count": 8
  },
  {
   "metadata": {},
   "cell_type": "markdown",
   "source": "## Remover dados",
   "id": "4b9ecae10b8a454d"
  },
  {
   "metadata": {
    "ExecuteTime": {
     "end_time": "2025-03-30T16:50:32.533210Z",
     "start_time": "2025-03-30T16:50:32.353011Z"
    }
   },
   "cell_type": "code",
   "source": [
    "df.drop('país', axis=1, inplace=True) #Coluna \n",
    "df.drop(2, axis=0, inplace=True) #Linha"
   ],
   "id": "571fb78e84c8266a",
   "outputs": [
    {
     "ename": "KeyError",
     "evalue": "\"['país'] not found in axis\"",
     "output_type": "error",
     "traceback": [
      "\u001B[31m---------------------------------------------------------------------------\u001B[39m",
      "\u001B[31mKeyError\u001B[39m                                  Traceback (most recent call last)",
      "\u001B[36mCell\u001B[39m\u001B[36m \u001B[39m\u001B[32mIn[10]\u001B[39m\u001B[32m, line 1\u001B[39m\n\u001B[32m----> \u001B[39m\u001B[32m1\u001B[39m \u001B[43mdf\u001B[49m\u001B[43m.\u001B[49m\u001B[43mdrop\u001B[49m\u001B[43m(\u001B[49m\u001B[33;43m'\u001B[39;49m\u001B[33;43mpaís\u001B[39;49m\u001B[33;43m'\u001B[39;49m\u001B[43m,\u001B[49m\u001B[43m \u001B[49m\u001B[43maxis\u001B[49m\u001B[43m=\u001B[49m\u001B[32;43m1\u001B[39;49m\u001B[43m,\u001B[49m\u001B[43m \u001B[49m\u001B[43minplace\u001B[49m\u001B[43m=\u001B[49m\u001B[38;5;28;43;01mTrue\u001B[39;49;00m\u001B[43m)\u001B[49m \u001B[38;5;66;03m#Coluna \u001B[39;00m\n\u001B[32m      2\u001B[39m df.drop(\u001B[32m2\u001B[39m, axis=\u001B[32m0\u001B[39m, inplace=\u001B[38;5;28;01mTrue\u001B[39;00m) \u001B[38;5;66;03m#Linha\u001B[39;00m\n",
      "\u001B[36mFile \u001B[39m\u001B[32m~\\miniconda3\\Lib\\site-packages\\pandas\\core\\frame.py:5581\u001B[39m, in \u001B[36mDataFrame.drop\u001B[39m\u001B[34m(self, labels, axis, index, columns, level, inplace, errors)\u001B[39m\n\u001B[32m   5433\u001B[39m \u001B[38;5;28;01mdef\u001B[39;00m\u001B[38;5;250m \u001B[39m\u001B[34mdrop\u001B[39m(\n\u001B[32m   5434\u001B[39m     \u001B[38;5;28mself\u001B[39m,\n\u001B[32m   5435\u001B[39m     labels: IndexLabel | \u001B[38;5;28;01mNone\u001B[39;00m = \u001B[38;5;28;01mNone\u001B[39;00m,\n\u001B[32m   (...)\u001B[39m\u001B[32m   5442\u001B[39m     errors: IgnoreRaise = \u001B[33m\"\u001B[39m\u001B[33mraise\u001B[39m\u001B[33m\"\u001B[39m,\n\u001B[32m   5443\u001B[39m ) -> DataFrame | \u001B[38;5;28;01mNone\u001B[39;00m:\n\u001B[32m   5444\u001B[39m \u001B[38;5;250m    \u001B[39m\u001B[33;03m\"\"\"\u001B[39;00m\n\u001B[32m   5445\u001B[39m \u001B[33;03m    Drop specified labels from rows or columns.\u001B[39;00m\n\u001B[32m   5446\u001B[39m \n\u001B[32m   (...)\u001B[39m\u001B[32m   5579\u001B[39m \u001B[33;03m            weight  1.0     0.8\u001B[39;00m\n\u001B[32m   5580\u001B[39m \u001B[33;03m    \"\"\"\u001B[39;00m\n\u001B[32m-> \u001B[39m\u001B[32m5581\u001B[39m     \u001B[38;5;28;01mreturn\u001B[39;00m \u001B[38;5;28;43msuper\u001B[39;49m\u001B[43m(\u001B[49m\u001B[43m)\u001B[49m\u001B[43m.\u001B[49m\u001B[43mdrop\u001B[49m\u001B[43m(\u001B[49m\n\u001B[32m   5582\u001B[39m \u001B[43m        \u001B[49m\u001B[43mlabels\u001B[49m\u001B[43m=\u001B[49m\u001B[43mlabels\u001B[49m\u001B[43m,\u001B[49m\n\u001B[32m   5583\u001B[39m \u001B[43m        \u001B[49m\u001B[43maxis\u001B[49m\u001B[43m=\u001B[49m\u001B[43maxis\u001B[49m\u001B[43m,\u001B[49m\n\u001B[32m   5584\u001B[39m \u001B[43m        \u001B[49m\u001B[43mindex\u001B[49m\u001B[43m=\u001B[49m\u001B[43mindex\u001B[49m\u001B[43m,\u001B[49m\n\u001B[32m   5585\u001B[39m \u001B[43m        \u001B[49m\u001B[43mcolumns\u001B[49m\u001B[43m=\u001B[49m\u001B[43mcolumns\u001B[49m\u001B[43m,\u001B[49m\n\u001B[32m   5586\u001B[39m \u001B[43m        \u001B[49m\u001B[43mlevel\u001B[49m\u001B[43m=\u001B[49m\u001B[43mlevel\u001B[49m\u001B[43m,\u001B[49m\n\u001B[32m   5587\u001B[39m \u001B[43m        \u001B[49m\u001B[43minplace\u001B[49m\u001B[43m=\u001B[49m\u001B[43minplace\u001B[49m\u001B[43m,\u001B[49m\n\u001B[32m   5588\u001B[39m \u001B[43m        \u001B[49m\u001B[43merrors\u001B[49m\u001B[43m=\u001B[49m\u001B[43merrors\u001B[49m\u001B[43m,\u001B[49m\n\u001B[32m   5589\u001B[39m \u001B[43m    \u001B[49m\u001B[43m)\u001B[49m\n",
      "\u001B[36mFile \u001B[39m\u001B[32m~\\miniconda3\\Lib\\site-packages\\pandas\\core\\generic.py:4788\u001B[39m, in \u001B[36mNDFrame.drop\u001B[39m\u001B[34m(self, labels, axis, index, columns, level, inplace, errors)\u001B[39m\n\u001B[32m   4786\u001B[39m \u001B[38;5;28;01mfor\u001B[39;00m axis, labels \u001B[38;5;129;01min\u001B[39;00m axes.items():\n\u001B[32m   4787\u001B[39m     \u001B[38;5;28;01mif\u001B[39;00m labels \u001B[38;5;129;01mis\u001B[39;00m \u001B[38;5;129;01mnot\u001B[39;00m \u001B[38;5;28;01mNone\u001B[39;00m:\n\u001B[32m-> \u001B[39m\u001B[32m4788\u001B[39m         obj = \u001B[43mobj\u001B[49m\u001B[43m.\u001B[49m\u001B[43m_drop_axis\u001B[49m\u001B[43m(\u001B[49m\u001B[43mlabels\u001B[49m\u001B[43m,\u001B[49m\u001B[43m \u001B[49m\u001B[43maxis\u001B[49m\u001B[43m,\u001B[49m\u001B[43m \u001B[49m\u001B[43mlevel\u001B[49m\u001B[43m=\u001B[49m\u001B[43mlevel\u001B[49m\u001B[43m,\u001B[49m\u001B[43m \u001B[49m\u001B[43merrors\u001B[49m\u001B[43m=\u001B[49m\u001B[43merrors\u001B[49m\u001B[43m)\u001B[49m\n\u001B[32m   4790\u001B[39m \u001B[38;5;28;01mif\u001B[39;00m inplace:\n\u001B[32m   4791\u001B[39m     \u001B[38;5;28mself\u001B[39m._update_inplace(obj)\n",
      "\u001B[36mFile \u001B[39m\u001B[32m~\\miniconda3\\Lib\\site-packages\\pandas\\core\\generic.py:4830\u001B[39m, in \u001B[36mNDFrame._drop_axis\u001B[39m\u001B[34m(self, labels, axis, level, errors, only_slice)\u001B[39m\n\u001B[32m   4828\u001B[39m         new_axis = axis.drop(labels, level=level, errors=errors)\n\u001B[32m   4829\u001B[39m     \u001B[38;5;28;01melse\u001B[39;00m:\n\u001B[32m-> \u001B[39m\u001B[32m4830\u001B[39m         new_axis = \u001B[43maxis\u001B[49m\u001B[43m.\u001B[49m\u001B[43mdrop\u001B[49m\u001B[43m(\u001B[49m\u001B[43mlabels\u001B[49m\u001B[43m,\u001B[49m\u001B[43m \u001B[49m\u001B[43merrors\u001B[49m\u001B[43m=\u001B[49m\u001B[43merrors\u001B[49m\u001B[43m)\u001B[49m\n\u001B[32m   4831\u001B[39m     indexer = axis.get_indexer(new_axis)\n\u001B[32m   4833\u001B[39m \u001B[38;5;66;03m# Case for non-unique axis\u001B[39;00m\n\u001B[32m   4834\u001B[39m \u001B[38;5;28;01melse\u001B[39;00m:\n",
      "\u001B[36mFile \u001B[39m\u001B[32m~\\miniconda3\\Lib\\site-packages\\pandas\\core\\indexes\\base.py:7070\u001B[39m, in \u001B[36mIndex.drop\u001B[39m\u001B[34m(self, labels, errors)\u001B[39m\n\u001B[32m   7068\u001B[39m \u001B[38;5;28;01mif\u001B[39;00m mask.any():\n\u001B[32m   7069\u001B[39m     \u001B[38;5;28;01mif\u001B[39;00m errors != \u001B[33m\"\u001B[39m\u001B[33mignore\u001B[39m\u001B[33m\"\u001B[39m:\n\u001B[32m-> \u001B[39m\u001B[32m7070\u001B[39m         \u001B[38;5;28;01mraise\u001B[39;00m \u001B[38;5;167;01mKeyError\u001B[39;00m(\u001B[33mf\u001B[39m\u001B[33m\"\u001B[39m\u001B[38;5;132;01m{\u001B[39;00mlabels[mask].tolist()\u001B[38;5;132;01m}\u001B[39;00m\u001B[33m not found in axis\u001B[39m\u001B[33m\"\u001B[39m)\n\u001B[32m   7071\u001B[39m     indexer = indexer[~mask]\n\u001B[32m   7072\u001B[39m \u001B[38;5;28;01mreturn\u001B[39;00m \u001B[38;5;28mself\u001B[39m.delete(indexer)\n",
      "\u001B[31mKeyError\u001B[39m: \"['país'] not found in axis\""
     ]
    }
   ],
   "execution_count": 10
  },
  {
   "metadata": {},
   "cell_type": "markdown",
   "source": "## Normalizar campos de texto",
   "id": "1110c41f3934d0a0"
  },
  {
   "metadata": {
    "ExecuteTime": {
     "end_time": "2025-03-30T16:56:59.251824Z",
     "start_time": "2025-03-30T16:56:58.543862Z"
    }
   },
   "cell_type": "code",
   "source": [
    "df['nome'] = df['nome'].str.title()             # Primeira letra maiúscula em cada nome\n",
    "df['endereco'] = df['endereco'].str.lower()     # Endereço todo em minúsculas\n",
    "df['estado'] = df['estado'].str.strip().str.upper()  # Remove espaços e deixa tudo em maiúsculas"
   ],
   "id": "546ff674754bc730",
   "outputs": [],
   "execution_count": 11
  },
  {
   "metadata": {},
   "cell_type": "markdown",
   "source": "##  Converter tipos de dados",
   "id": "e4508712f14bf94a"
  },
  {
   "metadata": {
    "ExecuteTime": {
     "end_time": "2025-03-30T17:04:50.263420Z",
     "start_time": "2025-03-30T17:04:50.054209Z"
    }
   },
   "cell_type": "code",
   "source": [
    "## Tratamento de valores nulos antes de converter\n",
    "\n",
    "# Substituir valores nulos por 0\n",
    "df_fillna = df.fillna(0)\n",
    "\n",
    "# Remover registros com qualquer valor nulo\n",
    "df_dropna = df.dropna()\n",
    "\n",
    "# Manter apenas registros com pelo menos 4 valores **não nulos**\n",
    "df_dropna4 = df.dropna(thresh=4)\n",
    "\n",
    "# Remover registros onde a coluna 'cpf' está nula\n",
    "df = df.dropna(subset=['cpf'])\n",
    "\n",
    "# Verificar valores nulos por coluna\n",
    "print('Valores nulos:\\n', df.isnull().sum())\n",
    "\n"
   ],
   "id": "99e342116b9dccaa",
   "outputs": [
    {
     "name": "stdout",
     "output_type": "stream",
     "text": [
      "Valores nulos:\n",
      " nome        3\n",
      "cpf         0\n",
      "idade       0\n",
      "data        0\n",
      "endereco    0\n",
      "bairro      0\n",
      "estado      0\n",
      "dtype: int64\n"
     ]
    }
   ],
   "execution_count": 16
  },
  {
   "metadata": {
    "ExecuteTime": {
     "end_time": "2025-03-30T17:05:11.912449Z",
     "start_time": "2025-03-30T17:05:11.871286Z"
    }
   },
   "cell_type": "code",
   "source": [
    "# Verificar quantidade total de valores nulos nos DataFrames alternativos\n",
    "print('\\nQtd de registros nulos com fillna:', df_fillna.isnull().sum().sum())\n",
    "print('Qtd de registros nulos com dropna:', df_dropna.isnull().sum().sum())\n",
    "print('Qtd de registros nulos com dropna(thresh=4):', df_dropna4.isnull().sum().sum())"
   ],
   "id": "2f9848b1ee11ac6",
   "outputs": [
    {
     "name": "stdout",
     "output_type": "stream",
     "text": [
      "\n",
      "Qtd de registros nulos com fillna: 0\n",
      "Qtd de registros nulos com dropna: 0\n",
      "Qtd de registros nulos com dropna(thresh=4): 3\n"
     ]
    }
   ],
   "execution_count": 17
  },
  {
   "metadata": {
    "ExecuteTime": {
     "end_time": "2025-03-30T17:05:16.624629Z",
     "start_time": "2025-03-30T17:05:16.582107Z"
    }
   },
   "cell_type": "code",
   "source": "df['idade'] = df['idade'].astype(int)",
   "id": "dc6bfc45b133b27d",
   "outputs": [],
   "execution_count": 18
  },
  {
   "metadata": {
    "ExecuteTime": {
     "end_time": "2025-03-30T17:05:19.595122Z",
     "start_time": "2025-03-30T17:05:19.574446Z"
    }
   },
   "cell_type": "code",
   "source": "print(df.head())",
   "id": "c823434ac7fc0a87",
   "outputs": [
    {
     "name": "stdout",
     "output_type": "stream",
     "text": [
      "                      nome             cpf  idade        data  \\\n",
      "0  Sr. Vitor Gabriel Silva  640.***.***-01     90  1933-12-06   \n",
      "1            Calebe Santos  651.***.***-46     40  1984-03-06   \n",
      "2       Maria Julia Castro  164.***.***-43      0  2035-04-12   \n",
      "3           Arthur Da Rosa  085.***.***-30     53  1970-04-16   \n",
      "4             Juan Pereira  520.***.***-21     68  1955-10-25   \n",
      "\n",
      "                     endereco                     bairro estado  \n",
      "0    trevo emanuel silva, 482                 vila tirol     AP  \n",
      "1           recanto moraes, 7         ernesto nascimento     PB  \n",
      "2  residencial de pereira, 20                     jatobá     AL  \n",
      "3          parque almeida, 66  vila suzana segunda seção     SE  \n",
      "4      rodovia de pereira, 51                    estrela     BA  \n"
     ]
    }
   ],
   "execution_count": 19
  },
  {
   "metadata": {},
   "cell_type": "markdown",
   "source": "### Preenchimento de nulos com valores específicos",
   "id": "9645a0e6d247fa4"
  },
  {
   "metadata": {
    "ExecuteTime": {
     "end_time": "2025-03-30T17:09:53.031159Z",
     "start_time": "2025-03-30T17:09:42.889404Z"
    }
   },
   "cell_type": "code",
   "source": [
    "# Preencher estado nulo com 'Desconhecido'\n",
    "df.fillna(value={'estado': 'Desconhecido'}, inplace=True)\n",
    "\n",
    "# Preencher endereço nulo com texto fixo\n",
    "df['endereco'] = df['endereco'].fillna('Endereço não informado')\n",
    "\n",
    "# Corrigir idade usando a média\n",
    "df['idade_corrigida'] = df['idade'].fillna(df['idade'].mean())\n"
   ],
   "id": "41e35e8322bd77da",
   "outputs": [],
   "execution_count": 20
  },
  {
   "metadata": {},
   "cell_type": "markdown",
   "source": "### Tratamento de dados",
   "id": "bff1d49d28ee8d24"
  },
  {
   "metadata": {
    "ExecuteTime": {
     "end_time": "2025-03-30T17:26:05.927981Z",
     "start_time": "2025-03-30T17:26:05.878883Z"
    }
   },
   "cell_type": "code",
   "source": [
    "# Tratar dados duplicados\n",
    "print('Qtd registros atual:', df.shape[0])\n",
    "df.drop_duplicates()\n",
    "df.drop_duplicates(subset='cpf', inplace=True)\n",
    "print('Qtd registros removendo as duplicadas:', len(df))\n",
    "\n",
    "print('\\nDados Limpos:\\n', df)\n",
    "\n",
    "# Salvar dataframe\n",
    "df['data'] = df['data_corrigida']\n",
    "df['idade'] = df['idade_corrigida']\n",
    "\n"
   ],
   "id": "48ebf9539a435621",
   "outputs": [
    {
     "name": "stdout",
     "output_type": "stream",
     "text": [
      "Qtd registros atual: 991\n",
      "Qtd registros removendo as duplicadas: 976\n",
      "\n",
      "Dados Limpos:\n",
      "                         nome             cpf  idade        data  \\\n",
      "0    Sr. Vitor Gabriel Silva  640.***.***-01     90  1933-12-06   \n",
      "1              Calebe Santos  651.***.***-46     40  1984-03-06   \n",
      "2         Maria Julia Castro  164.***.***-43      0  2035-04-12   \n",
      "3             Arthur Da Rosa  085.***.***-30     53  1970-04-16   \n",
      "4               Juan Pereira  520.***.***-21     68  1955-10-25   \n",
      "..                       ...             ...    ...         ...   \n",
      "986            Eloah Peixoto  064.***.***-16     79  1944-05-23   \n",
      "987              Luiza Sales  726.***.***-80     56  1968-05-01   \n",
      "988      Dr. Alexandre Sales  427.***.***-40     87  1936-06-05   \n",
      "989            Alícia Campos  162.***.***-94     49  1975-03-20   \n",
      "990              Luigi Porto  826.***.***-83     43  1980-08-18   \n",
      "\n",
      "                       endereco                     bairro estado  \\\n",
      "0      trevo emanuel silva, 482                 vila tirol     AP   \n",
      "1             recanto moraes, 7         ernesto nascimento     PB   \n",
      "2    residencial de pereira, 20                     jatobá     AL   \n",
      "3            parque almeida, 66  vila suzana segunda seção     SE   \n",
      "4        rodovia de pereira, 51                    estrela     BA   \n",
      "..                          ...                        ...    ...   \n",
      "986          rua não cadastrada      bairro não cadastrado     MG   \n",
      "987          rua não cadastrada      bairro não cadastrado     GO   \n",
      "988          rua não cadastrada      bairro não cadastrado     SP   \n",
      "989          rua não cadastrada      bairro não cadastrado     GO   \n",
      "990        parque de santos, 88                   são joão     PI   \n",
      "\n",
      "     idade_corrigida data_corrigida  \n",
      "0                 90            NaT  \n",
      "1                 40            NaT  \n",
      "2                  0            NaT  \n",
      "3                 53            NaT  \n",
      "4                 68            NaT  \n",
      "..               ...            ...  \n",
      "986               79            NaT  \n",
      "987               56            NaT  \n",
      "988               87            NaT  \n",
      "989               49            NaT  \n",
      "990               43            NaT  \n",
      "\n",
      "[976 rows x 9 columns]\n"
     ]
    }
   ],
   "execution_count": 23
  },
  {
   "metadata": {
    "ExecuteTime": {
     "end_time": "2025-03-30T17:39:37.550674Z",
     "start_time": "2025-03-30T17:39:36.563514Z"
    }
   },
   "cell_type": "code",
   "source": [
    "# Salvar dataframe\n",
    "df['data'] = df['data_corrigida']\n",
    "df['idade'] = df['idade_corrigida']\n",
    "\n",
    "df_salvar = df[['nome', 'cpf', 'idade', 'data', 'endereco', 'estado']]\n",
    "df_salvar.to_csv('clientes_limpeza.csv', index=False)\n",
    "\n",
    "caminho = r'C:\\Users\\karin\\OneDrive\\Área de Trabalho\\EBAC\\clientes_limpeza.csv'\n",
    "\n",
    "df_salvar.to_csv(caminho, index=False)\n",
    "print('\\nNovo DataFrame: \\n', pd.read_csv(caminho))\n",
    "\n",
    "\n"
   ],
   "id": "8046331172ec66c1",
   "outputs": [
    {
     "name": "stdout",
     "output_type": "stream",
     "text": [
      "\n",
      "Novo DataFrame: \n",
      "                         nome             cpf  idade  data  \\\n",
      "0    Sr. Vitor Gabriel Silva  640.***.***-01     90   NaN   \n",
      "1              Calebe Santos  651.***.***-46     40   NaN   \n",
      "2         Maria Julia Castro  164.***.***-43      0   NaN   \n",
      "3             Arthur Da Rosa  085.***.***-30     53   NaN   \n",
      "4               Juan Pereira  520.***.***-21     68   NaN   \n",
      "..                       ...             ...    ...   ...   \n",
      "971            Eloah Peixoto  064.***.***-16     79   NaN   \n",
      "972              Luiza Sales  726.***.***-80     56   NaN   \n",
      "973      Dr. Alexandre Sales  427.***.***-40     87   NaN   \n",
      "974            Alícia Campos  162.***.***-94     49   NaN   \n",
      "975              Luigi Porto  826.***.***-83     43   NaN   \n",
      "\n",
      "                       endereco estado  \n",
      "0      trevo emanuel silva, 482     AP  \n",
      "1             recanto moraes, 7     PB  \n",
      "2    residencial de pereira, 20     AL  \n",
      "3            parque almeida, 66     SE  \n",
      "4        rodovia de pereira, 51     BA  \n",
      "..                          ...    ...  \n",
      "971          rua não cadastrada     MG  \n",
      "972          rua não cadastrada     GO  \n",
      "973          rua não cadastrada     SP  \n",
      "974          rua não cadastrada     GO  \n",
      "975        parque de santos, 88     PI  \n",
      "\n",
      "[976 rows x 6 columns]\n"
     ]
    }
   ],
   "execution_count": 30
  },
  {
   "metadata": {},
   "cell_type": "code",
   "outputs": [],
   "execution_count": null,
   "source": "",
   "id": "4af32b38b3f75daa"
  }
 ],
 "metadata": {
  "kernelspec": {
   "display_name": "Python 3",
   "language": "python",
   "name": "python3"
  },
  "language_info": {
   "codemirror_mode": {
    "name": "ipython",
    "version": 2
   },
   "file_extension": ".py",
   "mimetype": "text/x-python",
   "name": "python",
   "nbconvert_exporter": "python",
   "pygments_lexer": "ipython2",
   "version": "2.7.6"
  }
 },
 "nbformat": 4,
 "nbformat_minor": 5
}
